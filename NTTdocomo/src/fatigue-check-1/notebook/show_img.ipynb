import pandas as pd
import seaborn as sns
import matplotlib.pyplot as plt
df = pd.read_csv("../data/result.csv")
sns.set(style="darkgrid")

for user in range(3):
    user_val=df[df["id"]==user].pred.values
    if user_val.mean()>1.0:
        status = "dangerous"
    elif user_val.mean()>0.8:
        status = "normal"
    else:
        status = "well"
    plt.title("UserId:128  status:{}".format(status), fontsize=20)
    sns.lineplot(["9/{}{}".format(user, i) for i in range(0, 10)], user_val)
    plt.plot([0,9],[1,1], color="red", linestyle="dashed")
    #plt.plot([0,9],[0.8,0.8], color="green")
    plt.xlabel("Date")
    plt.ylabel("Fatigue")
    plt.ylim(0, 2.0)
    
    
    plt.savefig("../img/user_t{}.png".format(user))
    plt.show()