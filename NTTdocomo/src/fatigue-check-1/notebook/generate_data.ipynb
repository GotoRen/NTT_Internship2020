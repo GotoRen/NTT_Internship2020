{
 "metadata": {
  "language_info": {
   "codemirror_mode": {
    "name": "ipython",
    "version": 3
   },
   "file_extension": ".py",
   "mimetype": "text/x-python",
   "name": "python",
   "nbconvert_exporter": "python",
   "pygments_lexer": "ipython3",
   "version": "3.8.2-final"
  },
  "orig_nbformat": 2,
  "kernelspec": {
   "name": "python38264bit8be4fdfbba3745c69754a4544a2ce3cc",
   "display_name": "Python 3.8.2 64-bit"
  }
 },
 "nbformat": 4,
 "nbformat_minor": 2,
 "cells": [
  {
   "cell_type": "code",
   "execution_count": 20,
   "metadata": {},
   "outputs": [],
   "source": [
    "import pandas as pd\n",
    "import numpy as np\n",
    "\n",
    "df = pd.DataFrame([])\n",
    "temper = np.random.normal(36.5, 0.3, 1000)\n",
    "df[\"temper\"] = temper\n",
    "iphone = np.random.normal(8, 1.0, 1000)\n",
    "df[\"iphone\"] = iphone\n",
    "blood_oxy = np.random.normal(98, 0.3, 1000)\n",
    "df[\"blood_oxy\"] = blood_oxy\n",
    "heartbeat = np.random.normal(75, 20, 1000) \n",
    "num_step = np.random.normal(6000, 1000, 1000)\n",
    "df[\"num_step\"] = num_step\n",
    "df[\"heartbeat\"] = heartbeat\n",
    "\n",
    "\n",
    "_id = []\n",
    "for i in range(10):\n",
    "    _id += [i]*100\n",
    "days = []\n",
    "for j in range(10):\n",
    "    days += [i for i in range(100)]\n",
    "\n",
    "df[\"id\"] = _id\n",
    "df[\"days\"] = days\n",
    "df[\"fatigue\"] = np.sqrt(df[\"temper\"]) * np.sqrt(df[\"iphone\"])* heartbeat**2/10**4* df[\"heartbeat\"]/1000"
   ]
  },
  {
   "cell_type": "code",
   "execution_count": 21,
   "metadata": {},
   "outputs": [
    {
     "output_type": "execute_result",
     "data": {
      "text/plain": "        temper    iphone  blood_oxy     num_step  heartbeat  id  days  \\\n0    36.633242  5.480483  98.286131  7842.792432  52.739097   0     0   \n1    36.667665  9.381707  98.097901  4617.721135  59.262830   0     1   \n2    36.031570  7.042852  97.739356  7014.400812  89.537553   0     2   \n3    36.841499  9.730943  98.514259  5825.267249  73.087212   0     3   \n4    36.773231  6.978486  97.950144  5213.533857  69.897181   0     4   \n..         ...       ...        ...          ...        ...  ..   ...   \n995  36.175547  7.974170  97.835801  5406.956223  59.734020   9    95   \n996  36.833134  8.965832  97.908799  5882.071960  74.584308   9    96   \n997  36.714849  7.606120  98.531184  6658.570946  83.661219   9    97   \n998  36.249817  7.891656  98.066118  6488.505189  94.869844   9    98   \n999  36.856073  8.170544  98.147128  5908.410129  48.959041   9    99   \n\n      fatigue  \n0    0.207848  \n1    0.386038  \n2    1.143488  \n3    0.739214  \n4    0.547048  \n..        ...  \n995  0.362006  \n996  0.753975  \n997  0.978532  \n998  1.444181  \n999  0.203647  \n\n[1000 rows x 8 columns]",
      "text/html": "<div>\n<style scoped>\n    .dataframe tbody tr th:only-of-type {\n        vertical-align: middle;\n    }\n\n    .dataframe tbody tr th {\n        vertical-align: top;\n    }\n\n    .dataframe thead th {\n        text-align: right;\n    }\n</style>\n<table border=\"1\" class=\"dataframe\">\n  <thead>\n    <tr style=\"text-align: right;\">\n      <th></th>\n      <th>temper</th>\n      <th>iphone</th>\n      <th>blood_oxy</th>\n      <th>num_step</th>\n      <th>heartbeat</th>\n      <th>id</th>\n      <th>days</th>\n      <th>fatigue</th>\n    </tr>\n  </thead>\n  <tbody>\n    <tr>\n      <th>0</th>\n      <td>36.633242</td>\n      <td>5.480483</td>\n      <td>98.286131</td>\n      <td>7842.792432</td>\n      <td>52.739097</td>\n      <td>0</td>\n      <td>0</td>\n      <td>0.207848</td>\n    </tr>\n    <tr>\n      <th>1</th>\n      <td>36.667665</td>\n      <td>9.381707</td>\n      <td>98.097901</td>\n      <td>4617.721135</td>\n      <td>59.262830</td>\n      <td>0</td>\n      <td>1</td>\n      <td>0.386038</td>\n    </tr>\n    <tr>\n      <th>2</th>\n      <td>36.031570</td>\n      <td>7.042852</td>\n      <td>97.739356</td>\n      <td>7014.400812</td>\n      <td>89.537553</td>\n      <td>0</td>\n      <td>2</td>\n      <td>1.143488</td>\n    </tr>\n    <tr>\n      <th>3</th>\n      <td>36.841499</td>\n      <td>9.730943</td>\n      <td>98.514259</td>\n      <td>5825.267249</td>\n      <td>73.087212</td>\n      <td>0</td>\n      <td>3</td>\n      <td>0.739214</td>\n    </tr>\n    <tr>\n      <th>4</th>\n      <td>36.773231</td>\n      <td>6.978486</td>\n      <td>97.950144</td>\n      <td>5213.533857</td>\n      <td>69.897181</td>\n      <td>0</td>\n      <td>4</td>\n      <td>0.547048</td>\n    </tr>\n    <tr>\n      <th>...</th>\n      <td>...</td>\n      <td>...</td>\n      <td>...</td>\n      <td>...</td>\n      <td>...</td>\n      <td>...</td>\n      <td>...</td>\n      <td>...</td>\n    </tr>\n    <tr>\n      <th>995</th>\n      <td>36.175547</td>\n      <td>7.974170</td>\n      <td>97.835801</td>\n      <td>5406.956223</td>\n      <td>59.734020</td>\n      <td>9</td>\n      <td>95</td>\n      <td>0.362006</td>\n    </tr>\n    <tr>\n      <th>996</th>\n      <td>36.833134</td>\n      <td>8.965832</td>\n      <td>97.908799</td>\n      <td>5882.071960</td>\n      <td>74.584308</td>\n      <td>9</td>\n      <td>96</td>\n      <td>0.753975</td>\n    </tr>\n    <tr>\n      <th>997</th>\n      <td>36.714849</td>\n      <td>7.606120</td>\n      <td>98.531184</td>\n      <td>6658.570946</td>\n      <td>83.661219</td>\n      <td>9</td>\n      <td>97</td>\n      <td>0.978532</td>\n    </tr>\n    <tr>\n      <th>998</th>\n      <td>36.249817</td>\n      <td>7.891656</td>\n      <td>98.066118</td>\n      <td>6488.505189</td>\n      <td>94.869844</td>\n      <td>9</td>\n      <td>98</td>\n      <td>1.444181</td>\n    </tr>\n    <tr>\n      <th>999</th>\n      <td>36.856073</td>\n      <td>8.170544</td>\n      <td>98.147128</td>\n      <td>5908.410129</td>\n      <td>48.959041</td>\n      <td>9</td>\n      <td>99</td>\n      <td>0.203647</td>\n    </tr>\n  </tbody>\n</table>\n<p>1000 rows × 8 columns</p>\n</div>"
     },
     "metadata": {},
     "execution_count": 21
    }
   ],
   "source": [
    "df"
   ]
  },
  {
   "cell_type": "code",
   "execution_count": 22,
   "metadata": {},
   "outputs": [],
   "source": [
    "df.to_csv(\"../data/ori_data.csv\")"
   ]
  },
  {
   "cell_type": "code",
   "execution_count": null,
   "metadata": {},
   "outputs": [],
   "source": []
  }
 ]
}