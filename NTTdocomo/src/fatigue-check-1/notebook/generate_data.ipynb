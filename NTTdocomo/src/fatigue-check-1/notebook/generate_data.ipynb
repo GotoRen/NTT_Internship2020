{
 "metadata": {
  "language_info": {
   "codemirror_mode": {
    "name": "ipython",
    "version": 3
   },
   "file_extension": ".py",
   "mimetype": "text/x-python",
   "name": "python",
   "nbconvert_exporter": "python",
   "pygments_lexer": "ipython3",
   "version": "3.8.2-final"
  },
  "orig_nbformat": 2,
  "kernelspec": {
   "name": "python38264bit8be4fdfbba3745c69754a4544a2ce3cc",
   "display_name": "Python 3.8.2 64-bit"
  }
 },
 "nbformat": 4,
 "nbformat_minor": 2,
 "cells": [
  {
   "cell_type": "code",
   "execution_count": 1,
   "metadata": {},
   "outputs": [],
   "source": [
    "import pandas as pd\n",
    "import numpy as np\n",
    "\n",
    "df = pd.DataFrame([])\n",
    "temper = np.random.normal(36.5, 0.3, 1000)\n",
    "df[\"temper\"] = temper\n",
    "iphone = np.random.normal(8, 1.0, 1000)\n",
    "df[\"iphone\"] = iphone\n",
    "blood_oxy = np.random.normal(98, 0.3, 1000)\n",
    "df[\"blood_oxy\"] = blood_oxy\n",
    "heartbeat = np.random.normal(75, 20, 1000) \n",
    "num_step = np.random.normal(6000, 1000, 1000)\n",
    "df[\"num_step\"] = num_step\n",
    "df[\"heartbeat\"] = heartbeat\n",
    "\n",
    "\n",
    "_id = []\n",
    "for i in range(10):\n",
    "    _id += [i]*100\n",
    "days = []\n",
    "for j in range(10):\n",
    "    days += [i for i in range(100)]\n",
    "\n",
    "df[\"id\"] = _id\n",
    "df[\"days\"] = days\n",
    "df[\"fatigue\"] = np.sqrt(df[\"temper\"]) * np.sqrt(df[\"iphone\"])* heartbeat**2/10**4* df[\"heartbeat\"]/1000"
   ]
  },
  {
   "cell_type": "code",
   "execution_count": 2,
   "metadata": {},
   "outputs": [
    {
     "output_type": "execute_result",
     "data": {
      "text/plain": "        temper    iphone  blood_oxy     num_step  heartbeat  id  days  \\\n0    36.334397  9.973809  98.361844  5721.090516  58.838163   0     0   \n1    35.937661  9.552305  97.933664  4797.512902  68.867808   0     1   \n2    36.928842  7.698097  98.157095  7150.173867  84.132476   0     2   \n3    36.501673  7.653715  97.819818  5257.988661  92.573267   0     3   \n4    36.543255  8.625301  97.563013  6452.355916  61.605713   0     4   \n..         ...       ...        ...          ...        ...  ..   ...   \n995  36.345151  7.564801  97.913043  5925.090825  65.521503   9    95   \n996  36.478234  8.742904  97.547058  6178.606209  72.995063   9    96   \n997  36.308547  8.047358  97.921155  7389.648432  82.986015   9    97   \n998  36.240394  8.645518  97.925797  6522.639562  85.171740   9    98   \n999  37.300725  6.493716  97.707010  6047.319246  33.678266   9    99   \n\n      fatigue  \n0    0.387763  \n1    0.605171  \n2    1.004074  \n3    1.326018  \n4    0.415101  \n..        ...  \n995  0.466416  \n996  0.694585  \n997  0.976890  \n998  1.093650  \n999  0.059450  \n\n[1000 rows x 8 columns]",
      "text/html": "<div>\n<style scoped>\n    .dataframe tbody tr th:only-of-type {\n        vertical-align: middle;\n    }\n\n    .dataframe tbody tr th {\n        vertical-align: top;\n    }\n\n    .dataframe thead th {\n        text-align: right;\n    }\n</style>\n<table border=\"1\" class=\"dataframe\">\n  <thead>\n    <tr style=\"text-align: right;\">\n      <th></th>\n      <th>temper</th>\n      <th>iphone</th>\n      <th>blood_oxy</th>\n      <th>num_step</th>\n      <th>heartbeat</th>\n      <th>id</th>\n      <th>days</th>\n      <th>fatigue</th>\n    </tr>\n  </thead>\n  <tbody>\n    <tr>\n      <th>0</th>\n      <td>36.334397</td>\n      <td>9.973809</td>\n      <td>98.361844</td>\n      <td>5721.090516</td>\n      <td>58.838163</td>\n      <td>0</td>\n      <td>0</td>\n      <td>0.387763</td>\n    </tr>\n    <tr>\n      <th>1</th>\n      <td>35.937661</td>\n      <td>9.552305</td>\n      <td>97.933664</td>\n      <td>4797.512902</td>\n      <td>68.867808</td>\n      <td>0</td>\n      <td>1</td>\n      <td>0.605171</td>\n    </tr>\n    <tr>\n      <th>2</th>\n      <td>36.928842</td>\n      <td>7.698097</td>\n      <td>98.157095</td>\n      <td>7150.173867</td>\n      <td>84.132476</td>\n      <td>0</td>\n      <td>2</td>\n      <td>1.004074</td>\n    </tr>\n    <tr>\n      <th>3</th>\n      <td>36.501673</td>\n      <td>7.653715</td>\n      <td>97.819818</td>\n      <td>5257.988661</td>\n      <td>92.573267</td>\n      <td>0</td>\n      <td>3</td>\n      <td>1.326018</td>\n    </tr>\n    <tr>\n      <th>4</th>\n      <td>36.543255</td>\n      <td>8.625301</td>\n      <td>97.563013</td>\n      <td>6452.355916</td>\n      <td>61.605713</td>\n      <td>0</td>\n      <td>4</td>\n      <td>0.415101</td>\n    </tr>\n    <tr>\n      <th>...</th>\n      <td>...</td>\n      <td>...</td>\n      <td>...</td>\n      <td>...</td>\n      <td>...</td>\n      <td>...</td>\n      <td>...</td>\n      <td>...</td>\n    </tr>\n    <tr>\n      <th>995</th>\n      <td>36.345151</td>\n      <td>7.564801</td>\n      <td>97.913043</td>\n      <td>5925.090825</td>\n      <td>65.521503</td>\n      <td>9</td>\n      <td>95</td>\n      <td>0.466416</td>\n    </tr>\n    <tr>\n      <th>996</th>\n      <td>36.478234</td>\n      <td>8.742904</td>\n      <td>97.547058</td>\n      <td>6178.606209</td>\n      <td>72.995063</td>\n      <td>9</td>\n      <td>96</td>\n      <td>0.694585</td>\n    </tr>\n    <tr>\n      <th>997</th>\n      <td>36.308547</td>\n      <td>8.047358</td>\n      <td>97.921155</td>\n      <td>7389.648432</td>\n      <td>82.986015</td>\n      <td>9</td>\n      <td>97</td>\n      <td>0.976890</td>\n    </tr>\n    <tr>\n      <th>998</th>\n      <td>36.240394</td>\n      <td>8.645518</td>\n      <td>97.925797</td>\n      <td>6522.639562</td>\n      <td>85.171740</td>\n      <td>9</td>\n      <td>98</td>\n      <td>1.093650</td>\n    </tr>\n    <tr>\n      <th>999</th>\n      <td>37.300725</td>\n      <td>6.493716</td>\n      <td>97.707010</td>\n      <td>6047.319246</td>\n      <td>33.678266</td>\n      <td>9</td>\n      <td>99</td>\n      <td>0.059450</td>\n    </tr>\n  </tbody>\n</table>\n<p>1000 rows × 8 columns</p>\n</div>"
     },
     "metadata": {},
     "execution_count": 2
    }
   ],
   "source": [
    "df"
   ]
  },
  {
   "cell_type": "code",
   "execution_count": 3,
   "metadata": {},
   "outputs": [],
   "source": [
    "df.to_csv(\"../data/ori_data.csv\")"
   ]
  },
  {
   "cell_type": "code",
   "execution_count": null,
   "metadata": {},
   "outputs": [],
   "source": []
  }
 ]
}