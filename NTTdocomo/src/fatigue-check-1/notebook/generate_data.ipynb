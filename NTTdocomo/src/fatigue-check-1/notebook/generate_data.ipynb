{
 "metadata": {
  "language_info": {
   "codemirror_mode": {
    "name": "ipython",
    "version": 3
   },
   "file_extension": ".py",
   "mimetype": "text/x-python",
   "name": "python",
   "nbconvert_exporter": "python",
   "pygments_lexer": "ipython3",
   "version": "3.8.2-final"
  },
  "orig_nbformat": 2,
  "kernelspec": {
   "name": "python38264bit8be4fdfbba3745c69754a4544a2ce3cc",
   "display_name": "Python 3.8.2 64-bit"
  }
 },
 "nbformat": 4,
 "nbformat_minor": 2,
 "cells": [
  {
   "cell_type": "code",
   "execution_count": 9,
   "metadata": {},
   "outputs": [],
   "source": [
    "import pandas as pd\n",
    "import numpy as np\n",
    "\n",
    "df = pd.DataFrame([])\n",
    "temper = np.random.normal(36.5, 0.3, 1000)\n",
    "df[\"temper\"] = temper\n",
    "iphone = np.random.normal(8, 1.0, 1000)\n",
    "df[\"iphone\"] = iphone\n",
    "blood_oxy = np.random.normal(98, 0.3, 1000)\n",
    "df[\"blood_oxy\"] = blood_oxy\n",
    "heartbeat = np.random.normal(75, 20, 1000) \n",
    "num_step = np.random.normal(6000, 1000, 1000)\n",
    "df[\"num_step\"] = num_step\n",
    "df[\"heartbeat\"] = heartbeat\n",
    "\n",
    "\n",
    "_id = []\n",
    "for i in range(10):\n",
    "    _id+=[i]*100\n",
    "days = []\n",
    "for j in range(10):\n",
    "    days+=[i for i in range(100)]\n",
    "\n",
    "df[\"id\"] = _id\n",
    "df[\"days\"] = days\n",
    "df[\"fatigue\"] = np.sqrt(df[\"temper\"]) * np.sqrt(df[\"iphone\"])* heartbeat**2/10**4* df[\"heartbeat\"]/1000"
   ]
  },
  {
   "cell_type": "code",
   "execution_count": 10,
   "metadata": {},
   "outputs": [
    {
     "output_type": "execute_result",
     "data": {
      "text/plain": "        temper     iphone  blood_oxy     num_step  heartbeat  id  days  \\\n0    36.946468   6.963103  97.615053  6252.648478  59.012483   0     0   \n1    36.640490   8.604958  98.392463  6241.673751  81.642967   0     1   \n2    36.860749   8.844843  98.311004  4629.293285  60.992502   0     2   \n3    36.165398   8.938535  98.093251  7034.754716  92.883937   0     3   \n4    36.099249   8.993468  97.809152  5338.771103  76.526163   0     4   \n..         ...        ...        ...          ...        ...  ..   ...   \n995  36.478512   8.948507  97.994864  6953.463779  63.213986   9    95   \n996  36.481633   7.905111  98.349448  8139.266868  45.204980   9    96   \n997  36.669060  10.143214  98.311505  7090.194240  49.228777   9    97   \n998  36.768462   6.399796  98.421989  6136.059626  67.560666   9    98   \n999  36.365696   8.020576  97.958292  4288.128897  72.631067   9    99   \n\n      fatigue  \n0    0.329625  \n1    0.966299  \n2    0.409691  \n3    1.440793  \n4    0.807500  \n..        ...  \n995  0.456387  \n996  0.156874  \n997  0.230088  \n998  0.473045  \n999  0.654359  \n\n[1000 rows x 8 columns]",
      "text/html": "<div>\n<style scoped>\n    .dataframe tbody tr th:only-of-type {\n        vertical-align: middle;\n    }\n\n    .dataframe tbody tr th {\n        vertical-align: top;\n    }\n\n    .dataframe thead th {\n        text-align: right;\n    }\n</style>\n<table border=\"1\" class=\"dataframe\">\n  <thead>\n    <tr style=\"text-align: right;\">\n      <th></th>\n      <th>temper</th>\n      <th>iphone</th>\n      <th>blood_oxy</th>\n      <th>num_step</th>\n      <th>heartbeat</th>\n      <th>id</th>\n      <th>days</th>\n      <th>fatigue</th>\n    </tr>\n  </thead>\n  <tbody>\n    <tr>\n      <th>0</th>\n      <td>36.946468</td>\n      <td>6.963103</td>\n      <td>97.615053</td>\n      <td>6252.648478</td>\n      <td>59.012483</td>\n      <td>0</td>\n      <td>0</td>\n      <td>0.329625</td>\n    </tr>\n    <tr>\n      <th>1</th>\n      <td>36.640490</td>\n      <td>8.604958</td>\n      <td>98.392463</td>\n      <td>6241.673751</td>\n      <td>81.642967</td>\n      <td>0</td>\n      <td>1</td>\n      <td>0.966299</td>\n    </tr>\n    <tr>\n      <th>2</th>\n      <td>36.860749</td>\n      <td>8.844843</td>\n      <td>98.311004</td>\n      <td>4629.293285</td>\n      <td>60.992502</td>\n      <td>0</td>\n      <td>2</td>\n      <td>0.409691</td>\n    </tr>\n    <tr>\n      <th>3</th>\n      <td>36.165398</td>\n      <td>8.938535</td>\n      <td>98.093251</td>\n      <td>7034.754716</td>\n      <td>92.883937</td>\n      <td>0</td>\n      <td>3</td>\n      <td>1.440793</td>\n    </tr>\n    <tr>\n      <th>4</th>\n      <td>36.099249</td>\n      <td>8.993468</td>\n      <td>97.809152</td>\n      <td>5338.771103</td>\n      <td>76.526163</td>\n      <td>0</td>\n      <td>4</td>\n      <td>0.807500</td>\n    </tr>\n    <tr>\n      <th>...</th>\n      <td>...</td>\n      <td>...</td>\n      <td>...</td>\n      <td>...</td>\n      <td>...</td>\n      <td>...</td>\n      <td>...</td>\n      <td>...</td>\n    </tr>\n    <tr>\n      <th>995</th>\n      <td>36.478512</td>\n      <td>8.948507</td>\n      <td>97.994864</td>\n      <td>6953.463779</td>\n      <td>63.213986</td>\n      <td>9</td>\n      <td>95</td>\n      <td>0.456387</td>\n    </tr>\n    <tr>\n      <th>996</th>\n      <td>36.481633</td>\n      <td>7.905111</td>\n      <td>98.349448</td>\n      <td>8139.266868</td>\n      <td>45.204980</td>\n      <td>9</td>\n      <td>96</td>\n      <td>0.156874</td>\n    </tr>\n    <tr>\n      <th>997</th>\n      <td>36.669060</td>\n      <td>10.143214</td>\n      <td>98.311505</td>\n      <td>7090.194240</td>\n      <td>49.228777</td>\n      <td>9</td>\n      <td>97</td>\n      <td>0.230088</td>\n    </tr>\n    <tr>\n      <th>998</th>\n      <td>36.768462</td>\n      <td>6.399796</td>\n      <td>98.421989</td>\n      <td>6136.059626</td>\n      <td>67.560666</td>\n      <td>9</td>\n      <td>98</td>\n      <td>0.473045</td>\n    </tr>\n    <tr>\n      <th>999</th>\n      <td>36.365696</td>\n      <td>8.020576</td>\n      <td>97.958292</td>\n      <td>4288.128897</td>\n      <td>72.631067</td>\n      <td>9</td>\n      <td>99</td>\n      <td>0.654359</td>\n    </tr>\n  </tbody>\n</table>\n<p>1000 rows × 8 columns</p>\n</div>"
     },
     "metadata": {},
     "execution_count": 10
    }
   ],
   "source": [
    "df"
   ]
  },
  {
   "cell_type": "code",
   "execution_count": 13,
   "metadata": {},
   "outputs": [],
   "source": [
    "df.to_csv(\"../data/ori_data.csv\")"
   ]
  },
  {
   "cell_type": "code",
   "execution_count": null,
   "metadata": {},
   "outputs": [],
   "source": []
  }
 ]
}