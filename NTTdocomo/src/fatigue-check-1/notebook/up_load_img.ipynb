import boto3
import logging
region = boto3.Session().region_name

bucket='dc-s3-1' # Replace with your s3 bucket name

for user in range(10):
    key = "{}/".format(user)
    url = 's3://{}/{}'.format(bucket, key)
    try:
        boto3.Session().resource('s3').Bucket(bucket).Object(key).upload_file('../img/user_{}.png'.format(user))
        print('Done writing to {}'.format(url))
    except ClientError as e:
        logging.error(e)
        
        
region