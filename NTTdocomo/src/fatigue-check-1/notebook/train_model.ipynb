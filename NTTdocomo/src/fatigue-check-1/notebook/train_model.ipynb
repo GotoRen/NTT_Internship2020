from sklearn.ensemble import RandomForestRegressor
from sklearn.datasets import make_regression
import pandas as pd

df = pd.read_csv("../data/ori_data.csv")
input_columns = ["temper", "iphone","blood_oxy", "num_step","heartbeat"]
X_train = df[df["days"]<=89][input_columns]
y_train = df[df["days"]<=89]["fatigue"]
X_test = df[df["days"]>=90][input_columns]
y_test = df[df["days"]>=90]["fatigue"].values

regr = RandomForestRegressor(max_depth=2, random_state=0)
regr.fit(X_train, y_train)
y_pred = regr.predict(X_test)

y_pred


result  = pd.DataFrame([])
_id = []
for i in range(10):
    _id+=[i]*10
days = []
for j in range(10):
    days+=[i for i in range(10)]
result["id"] = _id
result["days"] = days
result["true"] = y_test
result["pred"] = y_pred

result.to_csv("../data/result.csv")