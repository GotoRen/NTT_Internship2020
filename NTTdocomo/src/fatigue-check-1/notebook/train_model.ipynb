{
 "metadata": {
  "language_info": {
   "codemirror_mode": {
    "name": "ipython",
    "version": 3
   },
   "file_extension": ".py",
   "mimetype": "text/x-python",
   "name": "python",
   "nbconvert_exporter": "python",
   "pygments_lexer": "ipython3",
   "version": "3.8.2-final"
  },
  "orig_nbformat": 2,
  "kernelspec": {
   "name": "python_defaultSpec_1600613381403",
   "display_name": "Python 3.8.2 64-bit"
  }
 },
 "nbformat": 4,
 "nbformat_minor": 2,
 "cells": [
  {
   "cell_type": "code",
   "execution_count": 14,
   "metadata": {},
   "outputs": [],
   "source": [
    "from sklearn.ensemble import RandomForestRegressor\n",
    "from sklearn.datasets import make_regression\n",
    "import pandas as pd\n",
    "\n",
    "df = pd.read_csv(\"../data/ori_data.csv\")\n",
    "input_columns = [\"temper\", \"iphone\",\"blood_oxy\", \"num_step\",\"heartbeat\"]\n",
    "X_train = df[df[\"days\"]<=89][input_columns]\n",
    "y_train = df[df[\"days\"]<=89][\"fatigue\"]\n",
    "X_test = df[df[\"days\"]>=90][input_columns]\n",
    "y_test = df[df[\"days\"]>=90][\"fatigue\"].values"
   ]
  },
  {
   "cell_type": "code",
   "execution_count": 15,
   "metadata": {},
   "outputs": [],
   "source": [
    "regr = RandomForestRegressor(max_depth=2, random_state=0)\n",
    "regr.fit(X_train, y_train)\n",
    "y_pred = regr.predict(X_test)"
   ]
  },
  {
   "cell_type": "code",
   "execution_count": 16,
   "metadata": {},
   "outputs": [
    {
     "output_type": "execute_result",
     "data": {
      "text/plain": "array([0.70049654, 2.66967168, 0.82442894, 0.33046389, 1.43410022,\n       0.82442894, 0.32569781, 0.32569781, 2.29241747, 0.82442894,\n       0.32569781, 0.82442894, 0.82442894, 1.20047225, 0.32569781,\n       0.32569781, 0.70049654, 0.32569781, 0.80726264, 0.82442894,\n       0.56526915, 0.73101109, 0.32569781, 0.32569781, 1.5101146 ,\n       1.70579164, 1.54812186, 0.33046389, 0.36360886, 0.82442894,\n       0.32569781, 1.35792925, 0.32569781, 0.32569781, 1.54127868,\n       1.54812186, 0.32569781, 0.32569781, 2.76411024, 0.32569781,\n       0.32569781, 1.54812186, 1.54812186, 1.53367797, 1.54812186,\n       0.33046389, 1.54812186, 0.32569781, 0.82442894, 2.64045771,\n       1.54812186, 0.82442894, 0.82442894, 0.82442894, 1.34987149,\n       0.32569781, 0.32569781, 0.82442894, 0.32569781, 1.54812186,\n       0.33046389, 0.82442894, 0.82442894, 1.54812186, 2.38227794,\n       0.82442894, 0.32569781, 0.82442894, 1.54127868, 0.32569781,\n       0.32569781, 0.82442894, 2.66967168, 0.82442894, 1.12882801,\n       0.82442894, 0.32569781, 1.54812186, 0.82442894, 0.82442894,\n       0.32569781, 1.54812186, 0.32569781, 0.33046389, 0.32569781,\n       0.52158226, 0.80726264, 0.82442894, 0.79590707, 2.76411024,\n       0.32569781, 0.79590707, 0.32569781, 0.32569781, 0.82442894,\n       0.32569781, 0.82442894, 0.82442894, 0.82442894, 0.32569781])"
     },
     "metadata": {},
     "execution_count": 16
    }
   ],
   "source": [
    "y_pred"
   ]
  },
  {
   "cell_type": "code",
   "execution_count": 17,
   "metadata": {},
   "outputs": [],
   "source": [
    "result  = pd.DataFrame([])\n",
    "_id = []\n",
    "for i in range(10):\n",
    "    _id+=[i]*10\n",
    "days = []\n",
    "for j in range(10):\n",
    "    days+=[i for i in range(10)]\n",
    "result[\"id\"] = _id\n",
    "result[\"days\"] = days\n",
    "result[\"true\"] = y_test\n",
    "result[\"pred\"] = y_pred"
   ]
  },
  {
   "cell_type": "code",
   "execution_count": 18,
   "metadata": {},
   "outputs": [],
   "source": [
    "result.to_csv(\"../data/result.csv\")"
   ]
  },
  {
   "cell_type": "code",
   "execution_count": null,
   "metadata": {},
   "outputs": [],
   "source": []
  }
 ]
}