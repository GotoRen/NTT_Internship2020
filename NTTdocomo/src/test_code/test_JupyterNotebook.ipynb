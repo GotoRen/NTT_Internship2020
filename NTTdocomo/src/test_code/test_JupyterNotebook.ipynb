{
 "metadata": {
  "language_info": {
   "codemirror_mode": {
    "name": "ipython",
    "version": 3
   },
   "file_extension": ".py",
   "mimetype": "text/x-python",
   "name": "python",
   "nbconvert_exporter": "python",
   "pygments_lexer": "ipython3",
   "version": "3.8.5-final"
  },
  "orig_nbformat": 2,
  "kernelspec": {
   "name": "python_defaultSpec_1600616172172",
   "display_name": "Python 3.8.5 64-bit"
  }
 },
 "nbformat": 4,
 "nbformat_minor": 2,
 "cells": [
  {
   "cell_type": "code",
   "execution_count": 16,
   "metadata": {
    "tags": []
   },
   "outputs": [
    {
     "output_type": "stream",
     "name": "stdout",
     "text": "Hello, World!\n"
    }
   ],
   "source": [
    "print(\"Hello, World!\")"
   ]
  },
  {
   "cell_type": "code",
   "execution_count": 17,
   "metadata": {},
   "outputs": [],
   "source": [
    "import boto3\n",
    "boto3.set_stream_logger()"
   ]
  },
  {
   "cell_type": "code",
   "execution_count": 18,
   "metadata": {},
   "outputs": [
    {
     "output_type": "error",
     "ename": "NoRegionError",
     "evalue": "You must specify a region.",
     "traceback": [
      "\u001b[0;31m---------------------------------------------------------------------------\u001b[0m",
      "\u001b[0;31mNoRegionError\u001b[0m                             Traceback (most recent call last)",
      "\u001b[0;32m<ipython-input-18-9157c37fbb32>\u001b[0m in \u001b[0;36m<module>\u001b[0;34m\u001b[0m\n\u001b[0;32m----> 1\u001b[0;31m \u001b[0mboto3\u001b[0m\u001b[0;34m.\u001b[0m\u001b[0mresource\u001b[0m\u001b[0;34m(\u001b[0m\u001b[0;34m'ec2'\u001b[0m\u001b[0;34m)\u001b[0m\u001b[0;34m\u001b[0m\u001b[0;34m\u001b[0m\u001b[0m\n\u001b[0m",
      "\u001b[0;32m/usr/local/lib/python3.8/site-packages/boto3/__init__.py\u001b[0m in \u001b[0;36mresource\u001b[0;34m(*args, **kwargs)\u001b[0m\n\u001b[1;32m     98\u001b[0m     \u001b[0mSee\u001b[0m \u001b[0;34m:\u001b[0m\u001b[0mpy\u001b[0m\u001b[0;34m:\u001b[0m\u001b[0mmeth\u001b[0m\u001b[0;34m:\u001b[0m\u001b[0;31m`\u001b[0m\u001b[0mboto3\u001b[0m\u001b[0;34m.\u001b[0m\u001b[0msession\u001b[0m\u001b[0;34m.\u001b[0m\u001b[0mSession\u001b[0m\u001b[0;34m.\u001b[0m\u001b[0mresource\u001b[0m\u001b[0;31m`\u001b[0m\u001b[0;34m.\u001b[0m\u001b[0;34m\u001b[0m\u001b[0;34m\u001b[0m\u001b[0m\n\u001b[1;32m     99\u001b[0m     \"\"\"\n\u001b[0;32m--> 100\u001b[0;31m     \u001b[0;32mreturn\u001b[0m \u001b[0m_get_default_session\u001b[0m\u001b[0;34m(\u001b[0m\u001b[0;34m)\u001b[0m\u001b[0;34m.\u001b[0m\u001b[0mresource\u001b[0m\u001b[0;34m(\u001b[0m\u001b[0;34m*\u001b[0m\u001b[0margs\u001b[0m\u001b[0;34m,\u001b[0m \u001b[0;34m**\u001b[0m\u001b[0mkwargs\u001b[0m\u001b[0;34m)\u001b[0m\u001b[0;34m\u001b[0m\u001b[0;34m\u001b[0m\u001b[0m\n\u001b[0m\u001b[1;32m    101\u001b[0m \u001b[0;34m\u001b[0m\u001b[0m\n\u001b[1;32m    102\u001b[0m \u001b[0;34m\u001b[0m\u001b[0m\n",
      "\u001b[0;32m/usr/local/lib/python3.8/site-packages/boto3/session.py\u001b[0m in \u001b[0;36mresource\u001b[0;34m(self, service_name, region_name, api_version, use_ssl, verify, endpoint_url, aws_access_key_id, aws_secret_access_key, aws_session_token, config)\u001b[0m\n\u001b[1;32m    382\u001b[0m         \u001b[0;32melse\u001b[0m\u001b[0;34m:\u001b[0m\u001b[0;34m\u001b[0m\u001b[0;34m\u001b[0m\u001b[0m\n\u001b[1;32m    383\u001b[0m             \u001b[0mconfig\u001b[0m \u001b[0;34m=\u001b[0m \u001b[0mConfig\u001b[0m\u001b[0;34m(\u001b[0m\u001b[0muser_agent_extra\u001b[0m\u001b[0;34m=\u001b[0m\u001b[0;34m'Resource'\u001b[0m\u001b[0;34m)\u001b[0m\u001b[0;34m\u001b[0m\u001b[0;34m\u001b[0m\u001b[0m\n\u001b[0;32m--> 384\u001b[0;31m         client = self.client(\n\u001b[0m\u001b[1;32m    385\u001b[0m             \u001b[0mservice_name\u001b[0m\u001b[0;34m,\u001b[0m \u001b[0mregion_name\u001b[0m\u001b[0;34m=\u001b[0m\u001b[0mregion_name\u001b[0m\u001b[0;34m,\u001b[0m \u001b[0mapi_version\u001b[0m\u001b[0;34m=\u001b[0m\u001b[0mapi_version\u001b[0m\u001b[0;34m,\u001b[0m\u001b[0;34m\u001b[0m\u001b[0;34m\u001b[0m\u001b[0m\n\u001b[1;32m    386\u001b[0m             \u001b[0muse_ssl\u001b[0m\u001b[0;34m=\u001b[0m\u001b[0muse_ssl\u001b[0m\u001b[0;34m,\u001b[0m \u001b[0mverify\u001b[0m\u001b[0;34m=\u001b[0m\u001b[0mverify\u001b[0m\u001b[0;34m,\u001b[0m \u001b[0mendpoint_url\u001b[0m\u001b[0;34m=\u001b[0m\u001b[0mendpoint_url\u001b[0m\u001b[0;34m,\u001b[0m\u001b[0;34m\u001b[0m\u001b[0;34m\u001b[0m\u001b[0m\n",
      "\u001b[0;32m/usr/local/lib/python3.8/site-packages/boto3/session.py\u001b[0m in \u001b[0;36mclient\u001b[0;34m(self, service_name, region_name, api_version, use_ssl, verify, endpoint_url, aws_access_key_id, aws_secret_access_key, aws_session_token, config)\u001b[0m\n\u001b[1;32m    256\u001b[0m \u001b[0;34m\u001b[0m\u001b[0m\n\u001b[1;32m    257\u001b[0m         \"\"\"\n\u001b[0;32m--> 258\u001b[0;31m         return self._session.create_client(\n\u001b[0m\u001b[1;32m    259\u001b[0m             \u001b[0mservice_name\u001b[0m\u001b[0;34m,\u001b[0m \u001b[0mregion_name\u001b[0m\u001b[0;34m=\u001b[0m\u001b[0mregion_name\u001b[0m\u001b[0;34m,\u001b[0m \u001b[0mapi_version\u001b[0m\u001b[0;34m=\u001b[0m\u001b[0mapi_version\u001b[0m\u001b[0;34m,\u001b[0m\u001b[0;34m\u001b[0m\u001b[0;34m\u001b[0m\u001b[0m\n\u001b[1;32m    260\u001b[0m             \u001b[0muse_ssl\u001b[0m\u001b[0;34m=\u001b[0m\u001b[0muse_ssl\u001b[0m\u001b[0;34m,\u001b[0m \u001b[0mverify\u001b[0m\u001b[0;34m=\u001b[0m\u001b[0mverify\u001b[0m\u001b[0;34m,\u001b[0m \u001b[0mendpoint_url\u001b[0m\u001b[0;34m=\u001b[0m\u001b[0mendpoint_url\u001b[0m\u001b[0;34m,\u001b[0m\u001b[0;34m\u001b[0m\u001b[0;34m\u001b[0m\u001b[0m\n",
      "\u001b[0;32m/usr/local/lib/python3.8/site-packages/botocore/session.py\u001b[0m in \u001b[0;36mcreate_client\u001b[0;34m(self, service_name, region_name, api_version, use_ssl, verify, endpoint_url, aws_access_key_id, aws_secret_access_key, aws_session_token, config)\u001b[0m\n\u001b[1;32m    832\u001b[0m             \u001b[0mretryhandler\u001b[0m\u001b[0;34m,\u001b[0m \u001b[0mtranslate\u001b[0m\u001b[0;34m,\u001b[0m \u001b[0mresponse_parser_factory\u001b[0m\u001b[0;34m,\u001b[0m\u001b[0;34m\u001b[0m\u001b[0;34m\u001b[0m\u001b[0m\n\u001b[1;32m    833\u001b[0m             exceptions_factory, config_store)\n\u001b[0;32m--> 834\u001b[0;31m         client = client_creator.create_client(\n\u001b[0m\u001b[1;32m    835\u001b[0m             \u001b[0mservice_name\u001b[0m\u001b[0;34m=\u001b[0m\u001b[0mservice_name\u001b[0m\u001b[0;34m,\u001b[0m \u001b[0mregion_name\u001b[0m\u001b[0;34m=\u001b[0m\u001b[0mregion_name\u001b[0m\u001b[0;34m,\u001b[0m\u001b[0;34m\u001b[0m\u001b[0;34m\u001b[0m\u001b[0m\n\u001b[1;32m    836\u001b[0m             \u001b[0mis_secure\u001b[0m\u001b[0;34m=\u001b[0m\u001b[0muse_ssl\u001b[0m\u001b[0;34m,\u001b[0m \u001b[0mendpoint_url\u001b[0m\u001b[0;34m=\u001b[0m\u001b[0mendpoint_url\u001b[0m\u001b[0;34m,\u001b[0m \u001b[0mverify\u001b[0m\u001b[0;34m=\u001b[0m\u001b[0mverify\u001b[0m\u001b[0;34m,\u001b[0m\u001b[0;34m\u001b[0m\u001b[0;34m\u001b[0m\u001b[0m\n",
      "\u001b[0;32m/usr/local/lib/python3.8/site-packages/botocore/client.py\u001b[0m in \u001b[0;36mcreate_client\u001b[0;34m(self, service_name, region_name, is_secure, endpoint_url, verify, credentials, scoped_config, api_version, client_config)\u001b[0m\n\u001b[1;32m     81\u001b[0m             \u001b[0mself\u001b[0m\u001b[0;34m.\u001b[0m\u001b[0m_endpoint_resolver\u001b[0m\u001b[0;34m,\u001b[0m \u001b[0mscoped_config\u001b[0m\u001b[0;34m,\u001b[0m \u001b[0mclient_config\u001b[0m\u001b[0;34m,\u001b[0m\u001b[0;34m\u001b[0m\u001b[0;34m\u001b[0m\u001b[0m\n\u001b[1;32m     82\u001b[0m             service_signing_name=service_model.metadata.get('signingName'))\n\u001b[0;32m---> 83\u001b[0;31m         client_args = self._get_client_args(\n\u001b[0m\u001b[1;32m     84\u001b[0m             \u001b[0mservice_model\u001b[0m\u001b[0;34m,\u001b[0m \u001b[0mregion_name\u001b[0m\u001b[0;34m,\u001b[0m \u001b[0mis_secure\u001b[0m\u001b[0;34m,\u001b[0m \u001b[0mendpoint_url\u001b[0m\u001b[0;34m,\u001b[0m\u001b[0;34m\u001b[0m\u001b[0;34m\u001b[0m\u001b[0m\n\u001b[1;32m     85\u001b[0m             verify, credentials, scoped_config, client_config, endpoint_bridge)\n",
      "\u001b[0;32m/usr/local/lib/python3.8/site-packages/botocore/client.py\u001b[0m in \u001b[0;36m_get_client_args\u001b[0;34m(self, service_model, region_name, is_secure, endpoint_url, verify, credentials, scoped_config, client_config, endpoint_bridge)\u001b[0m\n\u001b[1;32m    304\u001b[0m             \u001b[0mself\u001b[0m\u001b[0;34m.\u001b[0m\u001b[0m_response_parser_factory\u001b[0m\u001b[0;34m,\u001b[0m \u001b[0mself\u001b[0m\u001b[0;34m.\u001b[0m\u001b[0m_loader\u001b[0m\u001b[0;34m,\u001b[0m\u001b[0;34m\u001b[0m\u001b[0;34m\u001b[0m\u001b[0m\n\u001b[1;32m    305\u001b[0m             self._exceptions_factory, config_store=self._config_store)\n\u001b[0;32m--> 306\u001b[0;31m         return args_creator.get_client_args(\n\u001b[0m\u001b[1;32m    307\u001b[0m             \u001b[0mservice_model\u001b[0m\u001b[0;34m,\u001b[0m \u001b[0mregion_name\u001b[0m\u001b[0;34m,\u001b[0m \u001b[0mis_secure\u001b[0m\u001b[0;34m,\u001b[0m \u001b[0mendpoint_url\u001b[0m\u001b[0;34m,\u001b[0m\u001b[0;34m\u001b[0m\u001b[0;34m\u001b[0m\u001b[0m\n\u001b[1;32m    308\u001b[0m             verify, credentials, scoped_config, client_config, endpoint_bridge)\n",
      "\u001b[0;32m/usr/local/lib/python3.8/site-packages/botocore/args.py\u001b[0m in \u001b[0;36mget_client_args\u001b[0;34m(self, service_model, region_name, is_secure, endpoint_url, verify, credentials, scoped_config, client_config, endpoint_bridge)\u001b[0m\n\u001b[1;32m     69\u001b[0m                         \u001b[0mendpoint_url\u001b[0m\u001b[0;34m,\u001b[0m \u001b[0mverify\u001b[0m\u001b[0;34m,\u001b[0m \u001b[0mcredentials\u001b[0m\u001b[0;34m,\u001b[0m \u001b[0mscoped_config\u001b[0m\u001b[0;34m,\u001b[0m\u001b[0;34m\u001b[0m\u001b[0;34m\u001b[0m\u001b[0m\n\u001b[1;32m     70\u001b[0m                         client_config, endpoint_bridge):\n\u001b[0;32m---> 71\u001b[0;31m         final_args = self.compute_client_args(\n\u001b[0m\u001b[1;32m     72\u001b[0m             \u001b[0mservice_model\u001b[0m\u001b[0;34m,\u001b[0m \u001b[0mclient_config\u001b[0m\u001b[0;34m,\u001b[0m \u001b[0mendpoint_bridge\u001b[0m\u001b[0;34m,\u001b[0m \u001b[0mregion_name\u001b[0m\u001b[0;34m,\u001b[0m\u001b[0;34m\u001b[0m\u001b[0;34m\u001b[0m\u001b[0m\n\u001b[1;32m     73\u001b[0m             endpoint_url, is_secure, scoped_config)\n",
      "\u001b[0;32m/usr/local/lib/python3.8/site-packages/botocore/args.py\u001b[0m in \u001b[0;36mcompute_client_args\u001b[0;34m(self, service_model, client_config, endpoint_bridge, region_name, endpoint_url, is_secure, scoped_config)\u001b[0m\n\u001b[1;32m    145\u001b[0m \u001b[0;34m\u001b[0m\u001b[0m\n\u001b[1;32m    146\u001b[0m         \u001b[0ms3_config\u001b[0m \u001b[0;34m=\u001b[0m \u001b[0mself\u001b[0m\u001b[0;34m.\u001b[0m\u001b[0mcompute_s3_config\u001b[0m\u001b[0;34m(\u001b[0m\u001b[0mclient_config\u001b[0m\u001b[0;34m)\u001b[0m\u001b[0;34m\u001b[0m\u001b[0;34m\u001b[0m\u001b[0m\n\u001b[0;32m--> 147\u001b[0;31m         endpoint_config = self._compute_endpoint_config(\n\u001b[0m\u001b[1;32m    148\u001b[0m             \u001b[0mservice_name\u001b[0m\u001b[0;34m=\u001b[0m\u001b[0mservice_name\u001b[0m\u001b[0;34m,\u001b[0m\u001b[0;34m\u001b[0m\u001b[0;34m\u001b[0m\u001b[0m\n\u001b[1;32m    149\u001b[0m             \u001b[0mregion_name\u001b[0m\u001b[0;34m=\u001b[0m\u001b[0mregion_name\u001b[0m\u001b[0;34m,\u001b[0m\u001b[0;34m\u001b[0m\u001b[0;34m\u001b[0m\u001b[0m\n",
      "\u001b[0;32m/usr/local/lib/python3.8/site-packages/botocore/args.py\u001b[0m in \u001b[0;36m_compute_endpoint_config\u001b[0;34m(self, service_name, region_name, endpoint_url, is_secure, endpoint_bridge, s3_config)\u001b[0m\n\u001b[1;32m    216\u001b[0m         \u001b[0;32mif\u001b[0m \u001b[0mservice_name\u001b[0m \u001b[0;34m==\u001b[0m \u001b[0;34m'sts'\u001b[0m\u001b[0;34m:\u001b[0m\u001b[0;34m\u001b[0m\u001b[0;34m\u001b[0m\u001b[0m\n\u001b[1;32m    217\u001b[0m             \u001b[0;32mreturn\u001b[0m \u001b[0mself\u001b[0m\u001b[0;34m.\u001b[0m\u001b[0m_compute_sts_endpoint_config\u001b[0m\u001b[0;34m(\u001b[0m\u001b[0;34m**\u001b[0m\u001b[0mresolve_endpoint_kwargs\u001b[0m\u001b[0;34m)\u001b[0m\u001b[0;34m\u001b[0m\u001b[0;34m\u001b[0m\u001b[0m\n\u001b[0;32m--> 218\u001b[0;31m         \u001b[0;32mreturn\u001b[0m \u001b[0mself\u001b[0m\u001b[0;34m.\u001b[0m\u001b[0m_resolve_endpoint\u001b[0m\u001b[0;34m(\u001b[0m\u001b[0;34m**\u001b[0m\u001b[0mresolve_endpoint_kwargs\u001b[0m\u001b[0;34m)\u001b[0m\u001b[0;34m\u001b[0m\u001b[0;34m\u001b[0m\u001b[0m\n\u001b[0m\u001b[1;32m    219\u001b[0m \u001b[0;34m\u001b[0m\u001b[0m\n\u001b[1;32m    220\u001b[0m     def _compute_s3_endpoint_config(self, s3_config,\n",
      "\u001b[0;32m/usr/local/lib/python3.8/site-packages/botocore/args.py\u001b[0m in \u001b[0;36m_resolve_endpoint\u001b[0;34m(self, service_name, region_name, endpoint_url, is_secure, endpoint_bridge)\u001b[0m\n\u001b[1;32m    298\u001b[0m     def _resolve_endpoint(self, service_name, region_name,\n\u001b[1;32m    299\u001b[0m                           endpoint_url, is_secure, endpoint_bridge):\n\u001b[0;32m--> 300\u001b[0;31m         return endpoint_bridge.resolve(\n\u001b[0m\u001b[1;32m    301\u001b[0m             service_name, region_name, endpoint_url, is_secure)\n\u001b[1;32m    302\u001b[0m \u001b[0;34m\u001b[0m\u001b[0m\n",
      "\u001b[0;32m/usr/local/lib/python3.8/site-packages/botocore/client.py\u001b[0m in \u001b[0;36mresolve\u001b[0;34m(self, service_name, region_name, endpoint_url, is_secure)\u001b[0m\n\u001b[1;32m    379\u001b[0m                 is_secure=True):\n\u001b[1;32m    380\u001b[0m         \u001b[0mregion_name\u001b[0m \u001b[0;34m=\u001b[0m \u001b[0mself\u001b[0m\u001b[0;34m.\u001b[0m\u001b[0m_check_default_region\u001b[0m\u001b[0;34m(\u001b[0m\u001b[0mservice_name\u001b[0m\u001b[0;34m,\u001b[0m \u001b[0mregion_name\u001b[0m\u001b[0;34m)\u001b[0m\u001b[0;34m\u001b[0m\u001b[0;34m\u001b[0m\u001b[0m\n\u001b[0;32m--> 381\u001b[0;31m         resolved = self.endpoint_resolver.construct_endpoint(\n\u001b[0m\u001b[1;32m    382\u001b[0m             service_name, region_name)\n\u001b[1;32m    383\u001b[0m \u001b[0;34m\u001b[0m\u001b[0m\n",
      "\u001b[0;32m/usr/local/lib/python3.8/site-packages/botocore/regions.py\u001b[0m in \u001b[0;36mconstruct_endpoint\u001b[0;34m(self, service_name, region_name, partition_name)\u001b[0m\n\u001b[1;32m    131\u001b[0m         \u001b[0;31m# Iterate over each partition until a match is found.\u001b[0m\u001b[0;34m\u001b[0m\u001b[0;34m\u001b[0m\u001b[0;34m\u001b[0m\u001b[0m\n\u001b[1;32m    132\u001b[0m         \u001b[0;32mfor\u001b[0m \u001b[0mpartition\u001b[0m \u001b[0;32min\u001b[0m \u001b[0mself\u001b[0m\u001b[0;34m.\u001b[0m\u001b[0m_endpoint_data\u001b[0m\u001b[0;34m[\u001b[0m\u001b[0;34m'partitions'\u001b[0m\u001b[0;34m]\u001b[0m\u001b[0;34m:\u001b[0m\u001b[0;34m\u001b[0m\u001b[0;34m\u001b[0m\u001b[0m\n\u001b[0;32m--> 133\u001b[0;31m             result = self._endpoint_for_partition(\n\u001b[0m\u001b[1;32m    134\u001b[0m                 partition, service_name, region_name)\n\u001b[1;32m    135\u001b[0m             \u001b[0;32mif\u001b[0m \u001b[0mresult\u001b[0m\u001b[0;34m:\u001b[0m\u001b[0;34m\u001b[0m\u001b[0;34m\u001b[0m\u001b[0m\n",
      "\u001b[0;32m/usr/local/lib/python3.8/site-packages/botocore/regions.py\u001b[0m in \u001b[0;36m_endpoint_for_partition\u001b[0;34m(self, partition, service_name, region_name, force_partition)\u001b[0m\n\u001b[1;32m    146\u001b[0m                 \u001b[0mregion_name\u001b[0m \u001b[0;34m=\u001b[0m \u001b[0mservice_data\u001b[0m\u001b[0;34m[\u001b[0m\u001b[0;34m'partitionEndpoint'\u001b[0m\u001b[0;34m]\u001b[0m\u001b[0;34m\u001b[0m\u001b[0;34m\u001b[0m\u001b[0m\n\u001b[1;32m    147\u001b[0m             \u001b[0;32melse\u001b[0m\u001b[0;34m:\u001b[0m\u001b[0;34m\u001b[0m\u001b[0;34m\u001b[0m\u001b[0m\n\u001b[0;32m--> 148\u001b[0;31m                 \u001b[0;32mraise\u001b[0m \u001b[0mNoRegionError\u001b[0m\u001b[0;34m(\u001b[0m\u001b[0;34m)\u001b[0m\u001b[0;34m\u001b[0m\u001b[0;34m\u001b[0m\u001b[0m\n\u001b[0m\u001b[1;32m    149\u001b[0m         \u001b[0;31m# Attempt to resolve the exact region for this partition.\u001b[0m\u001b[0;34m\u001b[0m\u001b[0;34m\u001b[0m\u001b[0;34m\u001b[0m\u001b[0m\n\u001b[1;32m    150\u001b[0m         \u001b[0;32mif\u001b[0m \u001b[0mregion_name\u001b[0m \u001b[0;32min\u001b[0m \u001b[0mservice_data\u001b[0m\u001b[0;34m[\u001b[0m\u001b[0;34m'endpoints'\u001b[0m\u001b[0;34m]\u001b[0m\u001b[0;34m:\u001b[0m\u001b[0;34m\u001b[0m\u001b[0;34m\u001b[0m\u001b[0m\n",
      "\u001b[0;31mNoRegionError\u001b[0m: You must specify a region."
     ]
    }
   ],
   "source": [
    "boto3.resource('ec2')"
   ]
  },
  {
   "cell_type": "code",
   "execution_count": 19,
   "metadata": {
    "tags": []
   },
   "outputs": [
    {
     "output_type": "stream",
     "name": "stdout",
     "text": "[1 2 3]\n"
    }
   ],
   "source": [
    "import numpy as np\n",
    "data = np.array([1, 2, 3])\n",
    "print(data)"
   ]
  },
  {
   "cell_type": "code",
   "execution_count": 20,
   "metadata": {
    "tags": []
   },
   "outputs": [
    {
     "output_type": "execute_result",
     "data": {
      "text/plain": "'\\nimport sys\\nimport pprint\\npprint.pprint(sys.path)\\n'"
     },
     "metadata": {},
     "execution_count": 20
    }
   ],
   "source": [
    "\"\"\"\n",
    "import sys\n",
    "import pprint\n",
    "pprint.pprint(sys.path)\n",
    "\"\"\""
   ]
  },
  {
   "cell_type": "code",
   "execution_count": 21,
   "metadata": {},
   "outputs": [],
   "source": [
    "import pandas as pd\n",
    "import numpy as np\n",
    "\n",
    "df = pd.DataFrame([])\n",
    "temper = np.random.normal(36.5, 0.3, 1000)\n",
    "df[\"temper\"] = temper\n",
    "iphone = np.random.normal(8, 1.0, 1000)\n",
    "df[\"iphone\"] = iphone\n",
    "blood_oxy = np.random.normal(98, 0.3, 1000)\n",
    "df[\"blood_oxy\"] = blood_oxy\n",
    "heartbeat = np.random.normal(75, 20, 1000) \n",
    "num_step = np.random.normal(6000, 1000, 1000)\n",
    "df[\"num_step\"] = num_step\n",
    "df[\"heartbeat\"] = heartbeat\n",
    "\n",
    "\n",
    "_id = []\n",
    "for i in range(10):\n",
    "    _id += [i]*100\n",
    "days = []\n",
    "for j in range(10):\n",
    "    days += [i for i in range(100)]\n",
    "\n",
    "df[\"id\"] = _id\n",
    "df[\"days\"] = days\n",
    "df[\"fatigue\"] = np.sqrt(df[\"temper\"]) * np.sqrt(df[\"iphone\"])* heartbeat**2/10**4* df[\"heartbeat\"]/1000\n"
   ]
  },
  {
   "cell_type": "code",
   "execution_count": 3,
   "metadata": {},
   "outputs": [
    {
     "output_type": "error",
     "ename": "NameError",
     "evalue": "name 'df' is not defined",
     "traceback": [
      "\u001b[0;31m---------------------------------------------------------------------------\u001b[0m",
      "\u001b[0;31mNameError\u001b[0m                                 Traceback (most recent call last)",
      "\u001b[0;32m<ipython-input-3-00cf07b74dcd>\u001b[0m in \u001b[0;36m<module>\u001b[0;34m\u001b[0m\n\u001b[0;32m----> 1\u001b[0;31m \u001b[0mdf\u001b[0m\u001b[0;34m\u001b[0m\u001b[0;34m\u001b[0m\u001b[0m\n\u001b[0m",
      "\u001b[0;31mNameError\u001b[0m: name 'df' is not defined"
     ]
    }
   ],
   "source": [
    "df"
   ]
  },
  {
   "cell_type": "code",
   "execution_count": null,
   "metadata": {},
   "outputs": [],
   "source": []
  }
 ]
}