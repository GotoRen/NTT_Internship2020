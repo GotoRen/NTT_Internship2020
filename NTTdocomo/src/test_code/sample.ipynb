{
 "metadata": {
  "language_info": {
   "codemirror_mode": {
    "name": "ipython",
    "version": 3
   },
   "file_extension": ".py",
   "mimetype": "text/x-python",
   "name": "python",
   "nbconvert_exporter": "python",
   "pygments_lexer": "ipython3",
   "version": "2.7.16-final"
  },
  "orig_nbformat": 2,
  "kernelspec": {
   "name": "python_defaultSpec_1600628979007",
   "display_name": "Python 2.7.16 64-bit"
  }
 },
 "nbformat": 4,
 "nbformat_minor": 2,
 "cells": [
  {
   "cell_type": "code",
   "execution_count": 30,
   "metadata": {
    "tags": []
   },
   "outputs": [
    {
     "output_type": "stream",
     "name": "stdout",
     "text": "Hello, World!\n"
    }
   ],
   "source": [
    "print(\"Hello, World!\")"
   ]
  },
  {
   "cell_type": "code",
   "execution_count": 20,
   "metadata": {
    "tags": []
   },
   "outputs": [
    {
     "output_type": "stream",
     "name": "stdout",
     "text": "# if分岐1\naの値は1です\n"
    }
   ],
   "source": [
    "print( \"# if分岐1\")\n",
    "a=1\n",
    "if( a==1 ):\n",
    "    print( \"aの値は1です\" )"
   ]
  },
  {
   "cell_type": "code",
   "execution_count": 21,
   "metadata": {
    "tags": []
   },
   "outputs": [
    {
     "output_type": "stream",
     "name": "stdout",
     "text": "# if分岐2\naもbも値は1です\n"
    }
   ],
   "source": [
    "print( \"# if分岐2\")\n",
    "b=1\n",
    "if( a==1 and b==1 ):\n",
    "    print( \"aもbも値は1です\" )\n",
    "elif( b==0 ):\n",
    "    print( \"bの値は0です\" )\n",
    "else:\n",
    "    print( \"aとbの値が想定外です\" )"
   ]
  },
  {
   "cell_type": "code",
   "execution_count": 22,
   "metadata": {
    "tags": []
   },
   "outputs": [
    {
     "output_type": "stream",
     "name": "stdout",
     "text": "# if分岐3\nbの値は0です\n"
    }
   ],
   "source": [
    "print( \"# if分岐3\")\n",
    "b=0\n",
    "if( a==1 and b==1 ):\n",
    "    print( \"aもbも値は1です\" )\n",
    "elif( b==0 ):\n",
    "    print( \"bの値は0です\" )\n",
    "else:\n",
    "    print( \"aとbの値が想定外です\" )"
   ]
  },
  {
   "cell_type": "code",
   "execution_count": 23,
   "metadata": {
    "tags": []
   },
   "outputs": [
    {
     "output_type": "stream",
     "name": "stdout",
     "text": "# if分岐4\n値が想定外です\n"
    }
   ],
   "source": [
    "print( \"# if分岐4\")  \n",
    "a=0\n",
    "b=1\n",
    "if( a==1 and b==1 ):\n",
    "    print( \"aもbも値は1です\" )\n",
    "elif( b==0 ):\n",
    "    print( \"bの値は0です\" )\n",
    "else:\n",
    "    print( \"値が想定外です\" )"
   ]
  },
  {
   "cell_type": "code",
   "execution_count": 25,
   "metadata": {
    "tags": []
   },
   "outputs": [
    {
     "output_type": "stream",
     "name": "stdout",
     "text": "{u'section2': {u'number': 2, u'key': u'key2'}, u'section1': {u'number': 1, u'key': u'key1'}}\n"
    }
   ],
   "source": [
    "import json\n",
    "\n",
    "json_open = open('test.json', 'r')\n",
    "json_load = json.load(json_open)\n",
    "print(json_load)\n"
   ]
  },
  {
   "cell_type": "code",
   "execution_count": 29,
   "metadata": {
    "tags": []
   },
   "outputs": [
    {
     "output_type": "stream",
     "name": "stdout",
     "text": "{u'number': 2, u'key': u'key2'}\n{u'number': 1, u'key': u'key1'}\n"
    }
   ],
   "source": [
    "import json\n",
    "\n",
    "json_open = open('test.json', 'r')\n",
    "json_load = json.load(json_open)\n",
    "\n",
    "#valuesで値をとってくる\n",
    "for v in json_load.values():\n",
    "    print(v)"
   ]
  },
  {
   "cell_type": "code",
   "execution_count": 28,
   "metadata": {
    "tags": []
   },
   "outputs": [
    {
     "output_type": "stream",
     "name": "stdout",
     "text": "2\n1\n"
    }
   ],
   "source": [
    "import json\n",
    "\n",
    "json_open = open('test.json', 'r')\n",
    "json_load = json.load(json_open)\n",
    "\n",
    "for v in json_load.values():\n",
    "    #ここを変えました。\n",
    "    print(v['number'])\n"
   ]
  },
  {
   "cell_type": "code",
   "execution_count": null,
   "metadata": {},
   "outputs": [],
   "source": []
  }
 ]
}